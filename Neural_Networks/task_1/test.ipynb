{
 "cells": [
  {
   "cell_type": "code",
   "execution_count": 2,
   "metadata": {},
   "outputs": [],
   "source": [
    "import pandas as pd\n",
    "import numpy as np\n",
    "from sklearn.model_selection import train_test_split\n",
    "\n",
    "def preprocess():\n",
    "  data = pd.read_csv('D:/Neural_Networks/dry_bean_dataset.csv')\n",
    "  data['MinorAxisLength'].interpolate(method='linear', inplace=True)\n",
    "  df = pd.DataFrame(data)\n",
    "  return df\n",
    "\n",
    "data = preprocess()\n",
    "data = data[(data['Class'] == 'BOMBAY') | (data['Class'] == 'CALI')]\n"
   ]
  },
  {
   "cell_type": "code",
   "execution_count": 9,
   "metadata": {},
   "outputs": [],
   "source": [
    "import numpy as np\n",
    "def single_preceptron(learning_rate, epochs, Mse_threshold, features, classes, bias=False):\n",
    "    X = data[features].values\n",
    "    y = np.where(data['Class'] == classes[0], 1, -1)\n",
    "    np.random.seed(0)\n",
    "    weights = np.random.rand(X.shape[1])\n",
    "    biass = np.random.rand() if bias else 0\n",
    "    X_train, X_test, y_train, y_test = train_test_split(X, y, test_size=0.25, random_state=0)\n",
    "    \n",
    "    # Perceptron learning\n",
    "    for epoch in range(epochs):\n",
    "        errors = 0\n",
    "        for xi, target in zip(X_train, y_train):\n",
    "            prediction = np.dot(xi, weights) + biass\n",
    "            if target * prediction <= 0:\n",
    "                weights += learning_rate * target * xi\n",
    "                biass += learning_rate * target\n",
    "                errors += 1\n",
    "        if errors == 0:\n",
    "            break\n",
    "\n",
    "        mse = errors / len(X_train)\n",
    "        if mse <= Mse_threshold:\n",
    "            break\n",
    "    \n",
    "    # Calculate accuracy on the test set\n",
    "    accuracy = np.sum(y_test == np.sign(np.dot(X_test, weights) + biass)) / len(y_test)\n",
    "    \n",
    "    return weights, biass\n",
    "\n",
    "weights,bias_value = single_preceptron(0.1, 100, 0.01, ['MajorAxisLength','MinorAxisLength'], ['BOMBAY','CALI'], bias=False)\n"
   ]
  },
  {
   "cell_type": "code",
   "execution_count": null,
   "metadata": {},
   "outputs": [],
   "source": []
  },
  {
   "cell_type": "code",
   "execution_count": 10,
   "metadata": {},
   "outputs": [
    {
     "ename": "NameError",
     "evalue": "name 'X_test' is not defined",
     "output_type": "error",
     "traceback": [
      "\u001b[1;31m---------------------------------------------------------------------------\u001b[0m",
      "\u001b[1;31mNameError\u001b[0m                                 Traceback (most recent call last)",
      "\u001b[1;32mC:\\Users\\FATMAA~1\\AppData\\Local\\Temp/ipykernel_6744/3049746335.py\u001b[0m in \u001b[0;36m<module>\u001b[1;34m\u001b[0m\n\u001b[0;32m      4\u001b[0m \u001b[1;33m\u001b[0m\u001b[0m\n\u001b[0;32m      5\u001b[0m \u001b[1;31m# Scatter plot for class 1\u001b[0m\u001b[1;33m\u001b[0m\u001b[1;33m\u001b[0m\u001b[0m\n\u001b[1;32m----> 6\u001b[1;33m \u001b[0mplt\u001b[0m\u001b[1;33m.\u001b[0m\u001b[0mscatter\u001b[0m\u001b[1;33m(\u001b[0m\u001b[0mX_test\u001b[0m\u001b[1;33m[\u001b[0m\u001b[0my_test\u001b[0m \u001b[1;33m==\u001b[0m \u001b[1;36m1\u001b[0m\u001b[1;33m]\u001b[0m\u001b[1;33m[\u001b[0m\u001b[1;33m:\u001b[0m\u001b[1;33m,\u001b[0m \u001b[1;36m0\u001b[0m\u001b[1;33m]\u001b[0m\u001b[1;33m,\u001b[0m \u001b[0mX_test\u001b[0m\u001b[1;33m[\u001b[0m\u001b[0my_test\u001b[0m \u001b[1;33m==\u001b[0m \u001b[1;36m1\u001b[0m\u001b[1;33m]\u001b[0m\u001b[1;33m[\u001b[0m\u001b[1;33m:\u001b[0m\u001b[1;33m,\u001b[0m \u001b[1;36m1\u001b[0m\u001b[1;33m]\u001b[0m\u001b[1;33m,\u001b[0m \u001b[0mlabel\u001b[0m\u001b[1;33m=\u001b[0m\u001b[1;34mf'Class BOMBAY'\u001b[0m\u001b[1;33m)\u001b[0m\u001b[1;33m\u001b[0m\u001b[1;33m\u001b[0m\u001b[0m\n\u001b[0m\u001b[0;32m      7\u001b[0m \u001b[1;33m\u001b[0m\u001b[0m\n\u001b[0;32m      8\u001b[0m \u001b[1;31m# Scatter plot for class -1\u001b[0m\u001b[1;33m\u001b[0m\u001b[1;33m\u001b[0m\u001b[0m\n",
      "\u001b[1;31mNameError\u001b[0m: name 'X_test' is not defined"
     ]
    }
   ],
   "source": [
    "import matplotlib.pyplot as plt\n",
    "\n",
    "# Assuming you have already defined X_test, y_test, weights, and bias_value\n",
    "\n",
    "# Scatter plot for class 1\n",
    "plt.scatter(X_test[y_test == 1][:, 0], X_test[y_test == 1][:, 1], label=f'Class BOMBAY')\n",
    "\n",
    "# Scatter plot for class -1\n",
    "plt.scatter(X_test[y_test == -1][:, 0], X_test[y_test == -1][:, 1], label=f'Class CALI')\n",
    "\n",
    "# Extract weights and bias\n",
    "w0, w1 = weights\n",
    "bias = bias_value\n",
    "\n",
    "# Define the range for x values (feature 1)\n",
    "x_range = np.linspace(X_test[:, 0].min(), X_test[:, 0].max(), num=100)\n",
    "\n",
    "# Calculate the corresponding y values to plot the decision boundary line\n",
    "y_range = (-bias - w0 * x_range) / w1\n",
    "\n",
    "# Plot the decision boundary line\n",
    "plt.plot(x_range, y_range, label='Decision Boundary', linestyle='--')\n",
    "\n",
    "# Label the axes and add a legend\n",
    "plt.xlabel('Feature 1')\n",
    "plt.ylabel('Feature 2')\n",
    "plt.legend()\n",
    "\n",
    "# Show the plot\n",
    "plt.show()\n"
   ]
  }
 ],
 "metadata": {
  "kernelspec": {
   "display_name": "Python 3",
   "language": "python",
   "name": "python3"
  },
  "language_info": {
   "codemirror_mode": {
    "name": "ipython",
    "version": 3
   },
   "file_extension": ".py",
   "mimetype": "text/x-python",
   "name": "python",
   "nbconvert_exporter": "python",
   "pygments_lexer": "ipython3",
   "version": "3.10.1"
  },
  "orig_nbformat": 4,
  "vscode": {
   "interpreter": {
    "hash": "ff4b1fca65a764b45acb559e482afe389d289dd599b9f8c5fd12ff5c2ea46a65"
   }
  }
 },
 "nbformat": 4,
 "nbformat_minor": 2
}
