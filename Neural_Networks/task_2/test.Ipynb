{
 "cells": [
  {
   "cell_type": "code",
   "execution_count": 730,
   "metadata": {},
   "outputs": [],
   "source": [
    "import numpy as np\n",
    "import pandas as pd\n",
    "import math\n",
    "from sklearn.model_selection import train_test_split\n",
    "from sklearn.utils import shuffle\n",
    "from sklearn.metrics import accuracy_score"
   ]
  },
  {
   "cell_type": "code",
   "execution_count": 731,
   "metadata": {},
   "outputs": [],
   "source": [
    "def preprocess(classes, features):\n",
    "   # Read the dataset\n",
    "   data = pd.read_csv('./dataset/dry_bean_dataset.csv')\n",
    "   # Filter rows based on the 'Class' column\n",
    "   # Perform linear interpolation for missing values in the 'MinorAxisLength' column\n",
    "   data[features] = data[features].copy().fillna(data[features].mean())\n",
    "   # Manually perform Min-Max scaling\n",
    "   for column in features:\n",
    "      min_val = data[column].min()\n",
    "      max_val = data[column].max()\n",
    "      data[column] = (data[column] - min_val) / (max_val - min_val)\n",
    "\n",
    "   # Shuffle the data\n",
    "   # data = data.sample(frac=1, random_state=0).reset_index(drop=True)\n",
    "   data = shuffle(data, random_state=0)\n",
    "   data.insert(0, 'bias', 1)\n",
    "   features.append(\"bias\")\n",
    "   X = data[features].values\n",
    "   Y = np.where(data['Class'] == classes[0], -1, np.where(data['Class']==classes[1],0,1))\n",
    "   x_train, x_test, y_train, y_test = train_test_split(\n",
    "      X, Y, test_size=0.4, random_state=42)\n",
    "   return x_train, x_test, y_train, y_test"
   ]
  },
  {
   "cell_type": "code",
   "execution_count": 732,
   "metadata": {},
   "outputs": [
    {
     "data": {
      "text/plain": [
       "(90, 6)"
      ]
     },
     "execution_count": 732,
     "metadata": {},
     "output_type": "execute_result"
    }
   ],
   "source": [
    "x_train,x_test,y_train,y_test = preprocess([\"BOMBAY\",\"CALI\",\"SIRA\"],[\"Area\",\"Perimeter\",\"MajorAxisLength\",\"MinorAxisLength\",\"roundnes\"])\n",
    "\n",
    "x_train.shape"
   ]
  },
  {
   "cell_type": "code",
   "execution_count": 733,
   "metadata": {},
   "outputs": [],
   "source": [
    "def sigmoidFunc(x):\n",
    "    return (1/(1+np.exp(-x)))\n",
    "def derivative_sigmoid(x):\n",
    "    return x* (1-x)"
   ]
  },
  {
   "cell_type": "code",
   "execution_count": 734,
   "metadata": {},
   "outputs": [],
   "source": [
    "def initialize_weights(hiddenlayers,n_neurons):\n",
    "   weights = [np.random.rand(n_neurons[i], n_neurons[i+1]) for i in range(hiddenlayers+1)]\n",
    "   return weights"
   ]
  },
  {
   "cell_type": "code",
   "execution_count": 735,
   "metadata": {},
   "outputs": [],
   "source": [
    "weights = initialize_weights(2,[6,3,4,3])"
   ]
  },
  {
   "cell_type": "code",
   "execution_count": 736,
   "metadata": {},
   "outputs": [],
   "source": [
    "# Calculate neuron activation for an input\n",
    "def activate_input(weights, inputs):\n",
    "    activation = 0\n",
    "    for i in range(len(weights.T)):\n",
    "        for j in range(len(weights)):\n",
    "            activation += weights[j] * inputs[i][j]\n",
    "    activation=sigmoidFunc(activation)\n",
    "    return activation"
   ]
  },
  {
   "cell_type": "code",
   "execution_count": 737,
   "metadata": {},
   "outputs": [],
   "source": [
    "def activate_hidden(weights, activatedInput):\n",
    "    activation = 0\n",
    "    for i in range(len(weights)):\n",
    "        for j in range(len(weights)):\n",
    "            activation += weights[j] * activatedInput[i]\n",
    "    activation=sigmoidFunc(activation)\n",
    "    return activation"
   ]
  },
  {
   "cell_type": "code",
   "execution_count": 738,
   "metadata": {},
   "outputs": [
    {
     "data": {
      "text/plain": [
       "[array([0.99755226, 0.99816035, 0.99710343]),\n",
       " array([0.99092628, 0.99927955, 0.95135737, 0.98043746]),\n",
       " array([0.99978699, 0.99930183, 0.99999711])]"
      ]
     },
     "execution_count": 738,
     "metadata": {},
     "output_type": "execute_result"
    }
   ],
   "source": [
    "activations=[]\n",
    "newInp = activate_input(weights[0],x_train)\n",
    "activations.append(newInp)\n",
    "for i in range(1,len(weights)):\n",
    "    newInp =activate_hidden(weights[i],newInp)\n",
    "    activations.append(newInp)\n",
    "activations"
   ]
  },
  {
   "cell_type": "code",
   "execution_count": 739,
   "metadata": {},
   "outputs": [],
   "source": [
    "def backprop_out(y_train,activations):\n",
    "    for i in y_train:\n",
    "        output_layer_errors = activations[-1] - i\n",
    "        delta = output_layer_errors * derivative_sigmoid(output_layer_errors)\n",
    "    return delta"
   ]
  },
  {
   "cell_type": "code",
   "execution_count": 886,
   "metadata": {},
   "outputs": [],
   "source": [
    "def backprop_hidden(delta,act):\n",
    "    print(act)\n",
    "    for j in range(len(act)-1):\n",
    "        hidden_layer_error = np.dot(delta[j],act)\n",
    "        hidden_delta = hidden_layer_error * derivative_sigmoid(hidden_layer_error)\n",
    "    return hidden_delta"
   ]
  },
  {
   "cell_type": "code",
   "execution_count": 888,
   "metadata": {},
   "outputs": [
    {
     "name": "stdout",
     "output_type": "stream",
     "text": [
      "[0.99092628 0.99927955 0.95135737 0.98043746]\n",
      "0.9909262758739313 [2.12918252e-04 6.97199376e-04 2.88995042e-06]\n",
      "0.9992795501582108 [2.12918252e-04 6.97199376e-04 2.88995042e-06]\n",
      "0.9513573687437772 [2.12918252e-04 6.97199376e-04 2.88995042e-06]\n",
      "[0.99755226 0.99816035 0.99710343]\n",
      "0.9975522555332673 [8.20091345e-12 8.33975953e-12 7.55904554e-12 8.02822154e-12]\n",
      "0.9981603488495935 [8.20091345e-12 8.33975953e-12 7.55904554e-12 8.02822154e-12]\n"
     ]
    },
    {
     "data": {
      "text/plain": [
       "[array([2.12918252e-04, 6.97199376e-04, 2.88995042e-06]),\n",
       " array([8.20091345e-12, 8.33975953e-12, 7.55904554e-12, 8.02822154e-12]),\n",
       " array([6.92115167e-23, 6.92959231e-23, 6.91492509e-23])]"
      ]
     },
     "execution_count": 888,
     "metadata": {},
     "output_type": "execute_result"
    }
   ],
   "source": [
    "Deltas =[]\n",
    "delta = backprop_out(y_train,activations)\n",
    "Deltas.append(delta)\n",
    "activation =activations[:len(activations)-1]\n",
    "for i in activation[::-1]:\n",
    "    delta =backprop_hidden(delta,i)\n",
    "    Deltas.append(delta)\n",
    "Deltas"
   ]
  },
  {
   "cell_type": "code",
   "execution_count": 933,
   "metadata": {},
   "outputs": [],
   "source": [
    "def update_weights_out(weights, deltas, activations, learning_rate):\n",
    "    new_weight = []\n",
    "    deltas = deltas[::-1]\n",
    "    for i in range(weights):\n",
    "            for j in range(len(weights[i])):\n",
    "                dotprod = np.dot(deltas[i][j],activations[i])\n",
    "                mult = learning_rate * dotprod\n",
    "                plus = weights[i][j]+mult\n",
    "                new_weight.append(plus)\n",
    "    return new_weight"
   ]
  },
  {
   "cell_type": "code",
   "execution_count": 934,
   "metadata": {},
   "outputs": [
    {
     "ename": "TypeError",
     "evalue": "only integer scalar arrays can be converted to a scalar index",
     "output_type": "error",
     "traceback": [
      "\u001b[1;31m---------------------------------------------------------------------------\u001b[0m",
      "\u001b[1;31mTypeError\u001b[0m                                 Traceback (most recent call last)",
      "\u001b[1;32md:\\Repos\\Neural_Networks\\Neural_Networks\\task_2\\test.Ipynb Cell 14\u001b[0m line \u001b[0;36m3\n\u001b[0;32m      <a href='vscode-notebook-cell:/d%3A/Repos/Neural_Networks/Neural_Networks/task_2/test.Ipynb#X35sZmlsZQ%3D%3D?line=0'>1</a>\u001b[0m weights_updated_out\u001b[39m=\u001b[39m[]\n\u001b[0;32m      <a href='vscode-notebook-cell:/d%3A/Repos/Neural_Networks/Neural_Networks/task_2/test.Ipynb#X35sZmlsZQ%3D%3D?line=1'>2</a>\u001b[0m \u001b[39mfor\u001b[39;00m i \u001b[39min\u001b[39;00m \u001b[39mrange\u001b[39m(\u001b[39mlen\u001b[39m(weights)):\n\u001b[1;32m----> <a href='vscode-notebook-cell:/d%3A/Repos/Neural_Networks/Neural_Networks/task_2/test.Ipynb#X35sZmlsZQ%3D%3D?line=2'>3</a>\u001b[0m     weights_updated_out\u001b[39m.\u001b[39mappend(update_weights_out(weights[i],Deltas,activations,\u001b[39m0.01\u001b[39;49m))\n",
      "\u001b[1;32md:\\Repos\\Neural_Networks\\Neural_Networks\\task_2\\test.Ipynb Cell 14\u001b[0m line \u001b[0;36m4\n\u001b[0;32m      <a href='vscode-notebook-cell:/d%3A/Repos/Neural_Networks/Neural_Networks/task_2/test.Ipynb#X35sZmlsZQ%3D%3D?line=1'>2</a>\u001b[0m new_weight \u001b[39m=\u001b[39m []\n\u001b[0;32m      <a href='vscode-notebook-cell:/d%3A/Repos/Neural_Networks/Neural_Networks/task_2/test.Ipynb#X35sZmlsZQ%3D%3D?line=2'>3</a>\u001b[0m deltas \u001b[39m=\u001b[39m deltas[::\u001b[39m-\u001b[39m\u001b[39m1\u001b[39m]\n\u001b[1;32m----> <a href='vscode-notebook-cell:/d%3A/Repos/Neural_Networks/Neural_Networks/task_2/test.Ipynb#X35sZmlsZQ%3D%3D?line=3'>4</a>\u001b[0m \u001b[39mfor\u001b[39;00m i \u001b[39min\u001b[39;00m \u001b[39mrange\u001b[39;49m(weights):\n\u001b[0;32m      <a href='vscode-notebook-cell:/d%3A/Repos/Neural_Networks/Neural_Networks/task_2/test.Ipynb#X35sZmlsZQ%3D%3D?line=4'>5</a>\u001b[0m         \u001b[39mfor\u001b[39;00m j \u001b[39min\u001b[39;00m \u001b[39mrange\u001b[39m(\u001b[39mlen\u001b[39m(weights[i])):\n\u001b[0;32m      <a href='vscode-notebook-cell:/d%3A/Repos/Neural_Networks/Neural_Networks/task_2/test.Ipynb#X35sZmlsZQ%3D%3D?line=5'>6</a>\u001b[0m             dotprod \u001b[39m=\u001b[39m np\u001b[39m.\u001b[39mdot(deltas[i][j],activations[i])\n",
      "\u001b[1;31mTypeError\u001b[0m: only integer scalar arrays can be converted to a scalar index"
     ]
    }
   ],
   "source": [
    "weights_updated_out=[]\n",
    "for i in range(len(weights)):\n",
    "    weights_updated_out.append(update_weights_out(weights[i],Deltas,activations,0.01))"
   ]
  },
  {
   "cell_type": "code",
   "execution_count": 765,
   "metadata": {},
   "outputs": [
    {
     "data": {
      "text/plain": [
       "[array([0.26660301, 0.26660785, 0.26660091]),\n",
       " array([0.71384877, 0.71385361, 0.71384667]),\n",
       " array([0.45727324, 0.45727808, 0.45727114]),\n",
       " array([0.65023137, 0.65023138, 0.65023137]),\n",
       " array([0.50266884, 0.50266884, 0.50266884]),\n",
       " array([0.43139357, 0.43139357, 0.43139357]),\n",
       " array([0.71776646, 0.71776646, 0.71776646]),\n",
       " array([0.01236084, 0.01236084, 0.01236084]),\n",
       " array([0.08029438, 0.08029438, 0.08029438])]"
      ]
     },
     "execution_count": 765,
     "metadata": {},
     "output_type": "execute_result"
    }
   ],
   "source": []
  },
  {
   "cell_type": "code",
   "execution_count": 744,
   "metadata": {},
   "outputs": [
    {
     "ename": "ValueError",
     "evalue": "operands could not be broadcast together with shapes (90,3) (90,) ",
     "output_type": "error",
     "traceback": [
      "\u001b[1;31m---------------------------------------------------------------------------\u001b[0m",
      "\u001b[1;31mValueError\u001b[0m                                Traceback (most recent call last)",
      "\u001b[1;32md:\\Repos\\Neural_Networks\\Neural_Networks\\task_2\\test.Ipynb Cell 15\u001b[0m line \u001b[0;36m1\n\u001b[1;32m----> <a href='vscode-notebook-cell:/d%3A/Repos/Neural_Networks/Neural_Networks/task_2/test.Ipynb#X12sZmlsZQ%3D%3D?line=0'>1</a>\u001b[0m mse \u001b[39m=\u001b[39m ((output_layer_outputs \u001b[39m-\u001b[39;49m y_train)\u001b[39m*\u001b[39m\u001b[39m*\u001b[39m\u001b[39m2\u001b[39m)\u001b[39m.\u001b[39msum() \u001b[39m/\u001b[39m (\u001b[39m2\u001b[39m\u001b[39m*\u001b[39mN)\n\u001b[0;32m      <a href='vscode-notebook-cell:/d%3A/Repos/Neural_Networks/Neural_Networks/task_2/test.Ipynb#X12sZmlsZQ%3D%3D?line=1'>2</a>\u001b[0m mse\n",
      "\u001b[1;31mValueError\u001b[0m: operands could not be broadcast together with shapes (90,3) (90,) "
     ]
    }
   ],
   "source": [
    "mse = ((output_layer_outputs - y_train)**2).sum() / (2*N)\n",
    "mse"
   ]
  },
  {
   "cell_type": "code",
   "execution_count": null,
   "metadata": {},
   "outputs": [],
   "source": [
    "# feedforward\n",
    "hidden_layer_inputs = np.dot(x_train, weights_1)\n",
    "hidden_layer_outputs = sigmoidFunc(hidden_layer_inputs)\n",
    "\n",
    "output_layer_inputs = np.dot(hidden_layer_outputs, weights_2)\n",
    "output_layer_outputs = sigmoidFunc(output_layer_inputs)"
   ]
  },
  {
   "cell_type": "code",
   "execution_count": null,
   "metadata": {},
   "outputs": [
    {
     "data": {
      "text/plain": [
       "0.4123640602881693"
      ]
     },
     "execution_count": 161,
     "metadata": {},
     "output_type": "execute_result"
    }
   ],
   "source": [
    "mse = ((output_layer_outputs - y_train)**2).sum() / (2*N)\n",
    "mse"
   ]
  },
  {
   "cell_type": "code",
   "execution_count": null,
   "metadata": {},
   "outputs": [
    {
     "ename": "NameError",
     "evalue": "name 'predict' is not defined",
     "output_type": "error",
     "traceback": [
      "\u001b[1;31m---------------------------------------------------------------------------\u001b[0m",
      "\u001b[1;31mNameError\u001b[0m                                 Traceback (most recent call last)",
      "\u001b[1;32md:\\Repos\\Neural_Networks\\Neural_Networks\\task_2\\test.Ipynb Cell 12\u001b[0m line \u001b[0;36m1\n\u001b[1;32m----> <a href='vscode-notebook-cell:/d%3A/Repos/Neural_Networks/Neural_Networks/task_2/test.Ipynb#X20sZmlsZQ%3D%3D?line=0'>1</a>\u001b[0m calculate_accuracy(x_test,y_test,[weights_1,weights_2])\n",
      "\u001b[1;32md:\\Repos\\Neural_Networks\\Neural_Networks\\task_2\\test.Ipynb Cell 12\u001b[0m line \u001b[0;36m2\n\u001b[0;32m      <a href='vscode-notebook-cell:/d%3A/Repos/Neural_Networks/Neural_Networks/task_2/test.Ipynb#X20sZmlsZQ%3D%3D?line=0'>1</a>\u001b[0m \u001b[39mdef\u001b[39;00m \u001b[39mcalculate_accuracy\u001b[39m(X_test, y_test,trained_weights):\n\u001b[1;32m----> <a href='vscode-notebook-cell:/d%3A/Repos/Neural_Networks/Neural_Networks/task_2/test.Ipynb#X20sZmlsZQ%3D%3D?line=1'>2</a>\u001b[0m    predictions \u001b[39m=\u001b[39mpredict(X_test,trained_weights)\n\u001b[0;32m      <a href='vscode-notebook-cell:/d%3A/Repos/Neural_Networks/Neural_Networks/task_2/test.Ipynb#X20sZmlsZQ%3D%3D?line=2'>3</a>\u001b[0m    predictions \u001b[39m=\u001b[39m predictions\u001b[39m.\u001b[39mflatten()\n\u001b[0;32m      <a href='vscode-notebook-cell:/d%3A/Repos/Neural_Networks/Neural_Networks/task_2/test.Ipynb#X20sZmlsZQ%3D%3D?line=3'>4</a>\u001b[0m    correct_predictions \u001b[39m=\u001b[39m \u001b[39msum\u001b[39m(predictions \u001b[39m==\u001b[39m y_test)\n",
      "\u001b[1;31mNameError\u001b[0m: name 'predict' is not defined"
     ]
    }
   ],
   "source": [
    "calculate_accuracy(x_test,y_test,[weights_1,weights_2])"
   ]
  },
  {
   "cell_type": "code",
   "execution_count": null,
   "metadata": {},
   "outputs": [],
   "source": [
    "def calculate_accuracy(X_test, y_test,trained_weights):\n",
    "   predictions =predict(X_test,trained_weights)\n",
    "   predictions = predictions.flatten()\n",
    "   correct_predictions = sum(predictions == y_test)\n",
    "   accuracy = correct_predictions / len(y_test)\n",
    "   return accuracy"
   ]
  },
  {
   "cell_type": "code",
   "execution_count": null,
   "metadata": {},
   "outputs": [],
   "source": [
    "def predict(inputs, trained_weights):\n",
    "   outputs = forward_step(inputs, trained_weights)\n",
    "   return outputs[-1]"
   ]
  }
 ],
 "metadata": {
  "kernelspec": {
   "display_name": "Python 3",
   "language": "python",
   "name": "python3"
  },
  "language_info": {
   "codemirror_mode": {
    "name": "ipython",
    "version": 3
   },
   "file_extension": ".py",
   "mimetype": "text/x-python",
   "name": "python",
   "nbconvert_exporter": "python",
   "pygments_lexer": "ipython3",
   "version": "3.11.6"
  }
 },
 "nbformat": 4,
 "nbformat_minor": 2
}
